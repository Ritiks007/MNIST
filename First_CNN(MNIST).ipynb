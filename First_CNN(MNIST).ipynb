{
 "cells": [
  {
   "cell_type": "code",
   "execution_count": 20,
   "metadata": {},
   "outputs": [
    {
     "name": "stdout",
     "output_type": "stream",
     "text": [
      "2.1.0\n"
     ]
    }
   ],
   "source": [
    "import tensorflow as tf\n",
    "from tensorflow.keras.layers import Dense, BatchNormalization, Flatten, Conv2D, Dropout, MaxPool2D\n",
    "from tensorflow.keras.models import load_model\n",
    "(x_train,y_train),(x_test,y_test) = tf.keras.datasets.mnist.load_data()\n",
    "import matplotlib.pyplot as plt\n",
    "\n",
    "print(tf.__version__)\n",
    "import numpy as np"
   ]
  },
  {
   "cell_type": "markdown",
   "metadata": {},
   "source": [
    "# Data Preprocessing"
   ]
  },
  {
   "cell_type": "code",
   "execution_count": 21,
   "metadata": {},
   "outputs": [
    {
     "name": "stdout",
     "output_type": "stream",
     "text": [
      "x_train shape: (60000, 28, 28, 1)\n",
      "Number of images in x_train 60000\n",
      "Number of images in x_test 10000\n"
     ]
    }
   ],
   "source": [
    "# Reshaping the array to 4-dims so that it can work with the Keras API\n",
    "x_train = x_train.reshape(x_train.shape[0], 28, 28, 1)\n",
    "x_test = x_test.reshape(x_test.shape[0], 28, 28, 1)\n",
    "input_shape = (28, 28, 1)\n",
    "# Making sure that the values are float so that we can get decimal points after division\n",
    "x_train = x_train.astype('float32')\n",
    "x_test = x_test.astype('float32')\n",
    "# Normalizing the RGB codes by dividing it to the max RGB value.\n",
    "x_train /= 255\n",
    "x_test /= 255\n",
    "print('x_train shape:', x_train.shape)\n",
    "print('Number of images in x_train', x_train.shape[0])\n",
    "print('Number of images in x_test', x_test.shape[0])"
   ]
  },
  {
   "cell_type": "markdown",
   "metadata": {},
   "source": [
    "# Finding Appropriate number of Conv Layers"
   ]
  },
  {
   "cell_type": "markdown",
   "metadata": {},
   "source": [
    "### A) Input -> Conv2d(24,5) -> Pool(2) -> Flatten -> Dense(128) -> Dense(10)"
   ]
  },
  {
   "cell_type": "code",
   "execution_count": 26,
   "metadata": {},
   "outputs": [],
   "source": [
    "model = tf.keras.models.Sequential()\n",
    "\n",
    "model.add(Conv2D(24,kernel_size=5,activation='relu',padding='same',input_shape=(28,28,1)))\n",
    "model.add(MaxPool2D())\n",
    "\n",
    "model.add(Flatten())\n",
    "model.add(Dense(128, activation='relu'))\n",
    "model.add(Dense(10, activation='softmax'))"
   ]
  },
  {
   "cell_type": "code",
   "execution_count": 27,
   "metadata": {
    "scrolled": true
   },
   "outputs": [
    {
     "name": "stdout",
     "output_type": "stream",
     "text": [
      "Train on 60000 samples, validate on 10000 samples\n",
      "Epoch 1/20\n",
      "60000/60000 [==============================] - 5s 88us/sample - loss: 0.1321 - accuracy: 0.9601 - val_loss: 0.0471 - val_accuracy: 0.9841\n",
      "Epoch 2/20\n",
      "60000/60000 [==============================] - 5s 85us/sample - loss: 0.0461 - accuracy: 0.9862 - val_loss: 0.0454 - val_accuracy: 0.9845\n",
      "Epoch 3/20\n",
      "60000/60000 [==============================] - 5s 85us/sample - loss: 0.0312 - accuracy: 0.9899 - val_loss: 0.0424 - val_accuracy: 0.9862\n",
      "Epoch 4/20\n",
      "60000/60000 [==============================] - 5s 85us/sample - loss: 0.0198 - accuracy: 0.9938 - val_loss: 0.0390 - val_accuracy: 0.9874\n",
      "Epoch 5/20\n",
      "60000/60000 [==============================] - 5s 88us/sample - loss: 0.0174 - accuracy: 0.9943 - val_loss: 0.0336 - val_accuracy: 0.9901\n",
      "Epoch 6/20\n",
      "60000/60000 [==============================] - 5s 90us/sample - loss: 0.0121 - accuracy: 0.9958 - val_loss: 0.0413 - val_accuracy: 0.9875\n",
      "Epoch 7/20\n",
      "60000/60000 [==============================] - 6s 94us/sample - loss: 0.0087 - accuracy: 0.9969 - val_loss: 0.0500 - val_accuracy: 0.9854\n",
      "Epoch 8/20\n",
      "60000/60000 [==============================] - 5s 91us/sample - loss: 0.0077 - accuracy: 0.9975 - val_loss: 0.0529 - val_accuracy: 0.9877\n",
      "Epoch 9/20\n",
      "60000/60000 [==============================] - 5s 91us/sample - loss: 0.0063 - accuracy: 0.9978 - val_loss: 0.0583 - val_accuracy: 0.9852\n",
      "Epoch 10/20\n",
      "60000/60000 [==============================] - 5s 91us/sample - loss: 0.0048 - accuracy: 0.9984 - val_loss: 0.0517 - val_accuracy: 0.9883\n",
      "Epoch 11/20\n",
      "60000/60000 [==============================] - 6s 94us/sample - loss: 0.0052 - accuracy: 0.9981 - val_loss: 0.0542 - val_accuracy: 0.9885\n",
      "Epoch 12/20\n",
      "60000/60000 [==============================] - 6s 95us/sample - loss: 0.0051 - accuracy: 0.9982 - val_loss: 0.0514 - val_accuracy: 0.9879\n",
      "Epoch 13/20\n",
      "60000/60000 [==============================] - 5s 92us/sample - loss: 0.0032 - accuracy: 0.9989 - val_loss: 0.0540 - val_accuracy: 0.9880\n",
      "Epoch 14/20\n",
      "60000/60000 [==============================] - 5s 90us/sample - loss: 0.0031 - accuracy: 0.9990 - val_loss: 0.0576 - val_accuracy: 0.9878\n",
      "Epoch 15/20\n",
      "60000/60000 [==============================] - 6s 97us/sample - loss: 0.0040 - accuracy: 0.9984 - val_loss: 0.0614 - val_accuracy: 0.9870\n",
      "Epoch 16/20\n",
      "60000/60000 [==============================] - 6s 92us/sample - loss: 0.0025 - accuracy: 0.9993 - val_loss: 0.0543 - val_accuracy: 0.9877\n",
      "Epoch 17/20\n",
      "60000/60000 [==============================] - 6s 95us/sample - loss: 0.0029 - accuracy: 0.9991 - val_loss: 0.0581 - val_accuracy: 0.9887\n",
      "Epoch 18/20\n",
      "60000/60000 [==============================] - 5s 91us/sample - loss: 0.0028 - accuracy: 0.9990 - val_loss: 0.0818 - val_accuracy: 0.9880\n",
      "Epoch 19/20\n",
      "60000/60000 [==============================] - 5s 92us/sample - loss: 0.0030 - accuracy: 0.9991 - val_loss: 0.0799 - val_accuracy: 0.9865\n",
      "Epoch 20/20\n",
      "60000/60000 [==============================] - 5s 91us/sample - loss: 0.0028 - accuracy: 0.9992 - val_loss: 0.0624 - val_accuracy: 0.9901\n"
     ]
    },
    {
     "data": {
      "text/plain": [
       "<tensorflow.python.keras.callbacks.History at 0x7fb89694bd50>"
      ]
     },
     "execution_count": 27,
     "metadata": {},
     "output_type": "execute_result"
    }
   ],
   "source": [
    "model.compile(optimizer='adam',loss='sparse_categorical_crossentropy',metrics=['accuracy'])\n",
    "model.fit(x=x_train,y=y_train,epochs = 20, validation_data=(x_test,y_test))"
   ]
  },
  {
   "cell_type": "markdown",
   "metadata": {},
   "source": [
    "### B) Input -> Conv2d(24,5) -> Pool(2) -> Conv2d(48,5) -> Pool(2) -> Flatten -> Dense(128) -> Dense(10)"
   ]
  },
  {
   "cell_type": "code",
   "execution_count": 28,
   "metadata": {},
   "outputs": [],
   "source": [
    "model = tf.keras.models.Sequential()\n",
    "\n",
    "model.add(Conv2D(24,kernel_size=5,activation='relu',padding='same',input_shape=(28,28,1)))\n",
    "model.add(MaxPool2D())\n",
    "\n",
    "model.add(Conv2D(48,kernel_size=5,activation='relu',padding='same'))\n",
    "model.add(MaxPool2D())\n",
    "\n",
    "model.add(Flatten())\n",
    "model.add(Dense(128, activation='relu'))\n",
    "model.add(Dense(10, activation='softmax'))"
   ]
  },
  {
   "cell_type": "code",
   "execution_count": 29,
   "metadata": {
    "scrolled": true
   },
   "outputs": [
    {
     "name": "stdout",
     "output_type": "stream",
     "text": [
      "Train on 60000 samples, validate on 10000 samples\n",
      "Epoch 1/20\n",
      "60000/60000 [==============================] - 9s 146us/sample - loss: 0.1125 - accuracy: 0.9652 - val_loss: 0.0434 - val_accuracy: 0.9858\n",
      "Epoch 2/20\n",
      "60000/60000 [==============================] - 8s 134us/sample - loss: 0.0387 - accuracy: 0.9881 - val_loss: 0.0323 - val_accuracy: 0.9887\n",
      "Epoch 3/20\n",
      "60000/60000 [==============================] - 8s 135us/sample - loss: 0.0251 - accuracy: 0.9918 - val_loss: 0.0347 - val_accuracy: 0.9882\n",
      "Epoch 4/20\n",
      "60000/60000 [==============================] - 8s 135us/sample - loss: 0.0183 - accuracy: 0.9942 - val_loss: 0.0208 - val_accuracy: 0.9929\n",
      "Epoch 5/20\n",
      "60000/60000 [==============================] - 8s 134us/sample - loss: 0.0155 - accuracy: 0.9951 - val_loss: 0.0393 - val_accuracy: 0.9895\n",
      "Epoch 6/20\n",
      "60000/60000 [==============================] - 8s 137us/sample - loss: 0.0119 - accuracy: 0.9962 - val_loss: 0.0326 - val_accuracy: 0.9918\n",
      "Epoch 7/20\n",
      "60000/60000 [==============================] - 8s 141us/sample - loss: 0.0098 - accuracy: 0.9968 - val_loss: 0.0338 - val_accuracy: 0.9915\n",
      "Epoch 8/20\n",
      "60000/60000 [==============================] - 8s 136us/sample - loss: 0.0076 - accuracy: 0.9976 - val_loss: 0.0322 - val_accuracy: 0.9915\n",
      "Epoch 9/20\n",
      "60000/60000 [==============================] - 8s 135us/sample - loss: 0.0078 - accuracy: 0.9974 - val_loss: 0.0376 - val_accuracy: 0.9910\n",
      "Epoch 10/20\n",
      "60000/60000 [==============================] - 8s 135us/sample - loss: 0.0060 - accuracy: 0.9980 - val_loss: 0.0451 - val_accuracy: 0.9901\n",
      "Epoch 11/20\n",
      "60000/60000 [==============================] - 9s 146us/sample - loss: 0.0066 - accuracy: 0.9980 - val_loss: 0.0317 - val_accuracy: 0.9932\n",
      "Epoch 12/20\n",
      "60000/60000 [==============================] - 8s 137us/sample - loss: 0.0047 - accuracy: 0.9986 - val_loss: 0.0507 - val_accuracy: 0.9902\n",
      "Epoch 13/20\n",
      "60000/60000 [==============================] - 9s 144us/sample - loss: 0.0055 - accuracy: 0.9983 - val_loss: 0.0488 - val_accuracy: 0.9913\n",
      "Epoch 14/20\n",
      "60000/60000 [==============================] - 9s 145us/sample - loss: 0.0041 - accuracy: 0.9987 - val_loss: 0.0526 - val_accuracy: 0.9912\n",
      "Epoch 15/20\n",
      "60000/60000 [==============================] - 8s 136us/sample - loss: 0.0044 - accuracy: 0.9986 - val_loss: 0.0496 - val_accuracy: 0.9917\n",
      "Epoch 16/20\n",
      "60000/60000 [==============================] - 8s 135us/sample - loss: 0.0059 - accuracy: 0.9982 - val_loss: 0.0450 - val_accuracy: 0.9918\n",
      "Epoch 17/20\n",
      "60000/60000 [==============================] - 8s 139us/sample - loss: 0.0039 - accuracy: 0.9987 - val_loss: 0.0502 - val_accuracy: 0.9920\n",
      "Epoch 18/20\n",
      "60000/60000 [==============================] - 8s 141us/sample - loss: 0.0033 - accuracy: 0.9991 - val_loss: 0.0742 - val_accuracy: 0.9896\n",
      "Epoch 19/20\n",
      "60000/60000 [==============================] - 8s 139us/sample - loss: 0.0036 - accuracy: 0.9990 - val_loss: 0.0556 - val_accuracy: 0.9906\n",
      "Epoch 20/20\n",
      "60000/60000 [==============================] - 8s 142us/sample - loss: 0.0043 - accuracy: 0.9988 - val_loss: 0.0432 - val_accuracy: 0.9923\n"
     ]
    },
    {
     "data": {
      "text/plain": [
       "<tensorflow.python.keras.callbacks.History at 0x7fb895b8b310>"
      ]
     },
     "execution_count": 29,
     "metadata": {},
     "output_type": "execute_result"
    }
   ],
   "source": [
    "model.compile(optimizer='adam',loss='sparse_categorical_crossentropy',metrics=['accuracy'])\n",
    "model.fit(x=x_train,y=y_train,epochs = 20, validation_data=(x_test,y_test))"
   ]
  },
  {
   "cell_type": "markdown",
   "metadata": {},
   "source": [
    "### C) Input -> Conv2d(24,5) -> Pool(2) -> Conv2d(48,5) -> Pool(2) -> Conv2d(64,5) -> Pool(2) ->Flatten -> Dense(128) -> Dense(10)"
   ]
  },
  {
   "cell_type": "code",
   "execution_count": 30,
   "metadata": {},
   "outputs": [],
   "source": [
    "model = tf.keras.models.Sequential()\n",
    "\n",
    "model.add(Conv2D(24,kernel_size=5,activation='relu',padding='same',input_shape=(28,28,1)))\n",
    "model.add(MaxPool2D())\n",
    "\n",
    "model.add(Conv2D(48,kernel_size=5,activation='relu',padding='same'))\n",
    "model.add(MaxPool2D())\n",
    "\n",
    "model.add(Conv2D(64,kernel_size=5,activation='relu',padding='same'))\n",
    "model.add(MaxPool2D())\n",
    "\n",
    "model.add(Flatten())\n",
    "model.add(Dense(128, activation='relu'))\n",
    "model.add(Dense(10, activation='softmax'))"
   ]
  },
  {
   "cell_type": "code",
   "execution_count": 31,
   "metadata": {
    "scrolled": true
   },
   "outputs": [
    {
     "name": "stdout",
     "output_type": "stream",
     "text": [
      "Train on 60000 samples, validate on 10000 samples\n",
      "Epoch 1/20\n",
      "60000/60000 [==============================] - 11s 181us/sample - loss: 0.1257 - accuracy: 0.9609 - val_loss: 0.0356 - val_accuracy: 0.9888\n",
      "Epoch 2/20\n",
      "60000/60000 [==============================] - 10s 174us/sample - loss: 0.0404 - accuracy: 0.9872 - val_loss: 0.0530 - val_accuracy: 0.9844\n",
      "Epoch 3/20\n",
      "60000/60000 [==============================] - 10s 169us/sample - loss: 0.0286 - accuracy: 0.9908 - val_loss: 0.0470 - val_accuracy: 0.9839\n",
      "Epoch 4/20\n",
      "60000/60000 [==============================] - 11s 178us/sample - loss: 0.0221 - accuracy: 0.9931 - val_loss: 0.0275 - val_accuracy: 0.9922\n",
      "Epoch 5/20\n",
      "60000/60000 [==============================] - 10s 172us/sample - loss: 0.0167 - accuracy: 0.9949 - val_loss: 0.0291 - val_accuracy: 0.9928\n",
      "Epoch 6/20\n",
      "60000/60000 [==============================] - 10s 169us/sample - loss: 0.0144 - accuracy: 0.9952 - val_loss: 0.0315 - val_accuracy: 0.9897\n",
      "Epoch 7/20\n",
      "60000/60000 [==============================] - 10s 169us/sample - loss: 0.0128 - accuracy: 0.9960 - val_loss: 0.0287 - val_accuracy: 0.9914\n",
      "Epoch 8/20\n",
      "60000/60000 [==============================] - 10s 170us/sample - loss: 0.0106 - accuracy: 0.9967 - val_loss: 0.0401 - val_accuracy: 0.9903\n",
      "Epoch 9/20\n",
      "60000/60000 [==============================] - 10s 171us/sample - loss: 0.0099 - accuracy: 0.9969 - val_loss: 0.0345 - val_accuracy: 0.9912\n",
      "Epoch 10/20\n",
      "60000/60000 [==============================] - 11s 175us/sample - loss: 0.0090 - accuracy: 0.9974 - val_loss: 0.0424 - val_accuracy: 0.9912\n",
      "Epoch 11/20\n",
      "60000/60000 [==============================] - 11s 176us/sample - loss: 0.0078 - accuracy: 0.9974 - val_loss: 0.0392 - val_accuracy: 0.9917\n",
      "Epoch 12/20\n",
      "60000/60000 [==============================] - 10s 175us/sample - loss: 0.0078 - accuracy: 0.9977 - val_loss: 0.0332 - val_accuracy: 0.9926\n",
      "Epoch 13/20\n",
      "60000/60000 [==============================] - 11s 177us/sample - loss: 0.0087 - accuracy: 0.9976 - val_loss: 0.0385 - val_accuracy: 0.9908\n",
      "Epoch 14/20\n",
      "60000/60000 [==============================] - 11s 180us/sample - loss: 0.0069 - accuracy: 0.9979 - val_loss: 0.0378 - val_accuracy: 0.9927\n",
      "Epoch 15/20\n",
      "60000/60000 [==============================] - 11s 178us/sample - loss: 0.0073 - accuracy: 0.9978 - val_loss: 0.0306 - val_accuracy: 0.9919\n",
      "Epoch 16/20\n",
      "60000/60000 [==============================] - 11s 176us/sample - loss: 0.0072 - accuracy: 0.9979 - val_loss: 0.0353 - val_accuracy: 0.9929\n",
      "Epoch 17/20\n",
      "60000/60000 [==============================] - 10s 175us/sample - loss: 0.0060 - accuracy: 0.9984 - val_loss: 0.0408 - val_accuracy: 0.9931\n",
      "Epoch 18/20\n",
      "60000/60000 [==============================] - 11s 178us/sample - loss: 0.0069 - accuracy: 0.9982 - val_loss: 0.0651 - val_accuracy: 0.9890\n",
      "Epoch 19/20\n",
      "60000/60000 [==============================] - 10s 175us/sample - loss: 0.0061 - accuracy: 0.9983 - val_loss: 0.0517 - val_accuracy: 0.9920\n",
      "Epoch 20/20\n",
      "60000/60000 [==============================] - 11s 178us/sample - loss: 0.0049 - accuracy: 0.9986 - val_loss: 0.0492 - val_accuracy: 0.9924\n"
     ]
    },
    {
     "data": {
      "text/plain": [
       "<tensorflow.python.keras.callbacks.History at 0x7fb89721b410>"
      ]
     },
     "execution_count": 31,
     "metadata": {},
     "output_type": "execute_result"
    }
   ],
   "source": [
    "model.compile(optimizer='adam',loss='sparse_categorical_crossentropy',metrics=['accuracy'])\n",
    "model.fit(x=x_train,y=y_train,epochs = 20, validation_data=(x_test,y_test))"
   ]
  },
  {
   "cell_type": "markdown",
   "metadata": {},
   "source": [
    "### Conclusion: Although it looks C can leverage better accuracy upon more training the ideal choice seems to be B as it is equally good and also computationally less expensive than C"
   ]
  },
  {
   "cell_type": "markdown",
   "metadata": {},
   "source": [
    "# Finding appropriate feature map size"
   ]
  },
  {
   "cell_type": "markdown",
   "metadata": {},
   "source": [
    "### B1) Input -> Conv2d(16,5) -> Pool(2) -> Conv2d(32,5) -> Pool(2) -> Flatten -> Dense(128) -> Dense(10)"
   ]
  },
  {
   "cell_type": "code",
   "execution_count": 40,
   "metadata": {},
   "outputs": [],
   "source": [
    "model = tf.keras.models.Sequential()\n",
    "\n",
    "model.add(Conv2D(16,kernel_size=5,activation='relu',input_shape=(28,28,1)))\n",
    "model.add(MaxPool2D())\n",
    "\n",
    "model.add(Conv2D(32,kernel_size=5,activation='relu'))\n",
    "model.add(MaxPool2D())\n",
    "\n",
    "model.add(Flatten())\n",
    "model.add(Dense(128, activation='relu'))\n",
    "model.add(Dense(10, activation='softmax'))"
   ]
  },
  {
   "cell_type": "code",
   "execution_count": 41,
   "metadata": {
    "scrolled": true
   },
   "outputs": [
    {
     "name": "stdout",
     "output_type": "stream",
     "text": [
      "Train on 60000 samples, validate on 10000 samples\n",
      "Epoch 1/20\n",
      "60000/60000 [==============================] - 5s 86us/sample - loss: 0.1452 - accuracy: 0.9555 - val_loss: 0.0668 - val_accuracy: 0.9777\n",
      "Epoch 2/20\n",
      "60000/60000 [==============================] - 5s 79us/sample - loss: 0.0459 - accuracy: 0.9858 - val_loss: 0.0423 - val_accuracy: 0.9859\n",
      "Epoch 3/20\n",
      "60000/60000 [==============================] - 5s 83us/sample - loss: 0.0312 - accuracy: 0.9904 - val_loss: 0.0297 - val_accuracy: 0.9892\n",
      "Epoch 4/20\n",
      "60000/60000 [==============================] - 5s 84us/sample - loss: 0.0246 - accuracy: 0.9921 - val_loss: 0.0327 - val_accuracy: 0.9900\n",
      "Epoch 5/20\n",
      "60000/60000 [==============================] - 5s 85us/sample - loss: 0.0197 - accuracy: 0.9937 - val_loss: 0.0362 - val_accuracy: 0.9886\n",
      "Epoch 6/20\n",
      "60000/60000 [==============================] - 5s 83us/sample - loss: 0.0152 - accuracy: 0.9951 - val_loss: 0.0305 - val_accuracy: 0.9917\n",
      "Epoch 7/20\n",
      "60000/60000 [==============================] - 5s 89us/sample - loss: 0.0124 - accuracy: 0.9959 - val_loss: 0.0322 - val_accuracy: 0.9901\n",
      "Epoch 8/20\n",
      "60000/60000 [==============================] - 5s 82us/sample - loss: 0.0114 - accuracy: 0.9963 - val_loss: 0.0338 - val_accuracy: 0.9913\n",
      "Epoch 9/20\n",
      "60000/60000 [==============================] - 5s 83us/sample - loss: 0.0091 - accuracy: 0.9969 - val_loss: 0.0326 - val_accuracy: 0.9918\n",
      "Epoch 10/20\n",
      "60000/60000 [==============================] - 5s 82us/sample - loss: 0.0094 - accuracy: 0.9967 - val_loss: 0.0360 - val_accuracy: 0.9914\n",
      "Epoch 11/20\n",
      "60000/60000 [==============================] - 5s 82us/sample - loss: 0.0065 - accuracy: 0.9978 - val_loss: 0.0371 - val_accuracy: 0.9915\n",
      "Epoch 12/20\n",
      "60000/60000 [==============================] - 5s 82us/sample - loss: 0.0083 - accuracy: 0.9972 - val_loss: 0.0414 - val_accuracy: 0.9902\n",
      "Epoch 13/20\n",
      "60000/60000 [==============================] - 5s 82us/sample - loss: 0.0063 - accuracy: 0.9977 - val_loss: 0.0492 - val_accuracy: 0.9892\n",
      "Epoch 14/20\n",
      "60000/60000 [==============================] - 5s 83us/sample - loss: 0.0058 - accuracy: 0.9981 - val_loss: 0.0356 - val_accuracy: 0.9922\n",
      "Epoch 15/20\n",
      "60000/60000 [==============================] - 5s 82us/sample - loss: 0.0051 - accuracy: 0.9982 - val_loss: 0.0421 - val_accuracy: 0.9911\n",
      "Epoch 16/20\n",
      "60000/60000 [==============================] - 5s 83us/sample - loss: 0.0059 - accuracy: 0.9981 - val_loss: 0.0414 - val_accuracy: 0.9909\n",
      "Epoch 17/20\n",
      "60000/60000 [==============================] - 5s 85us/sample - loss: 0.0040 - accuracy: 0.9987 - val_loss: 0.0448 - val_accuracy: 0.9913\n",
      "Epoch 18/20\n",
      "60000/60000 [==============================] - 5s 82us/sample - loss: 0.0059 - accuracy: 0.9981 - val_loss: 0.0501 - val_accuracy: 0.9898\n",
      "Epoch 19/20\n",
      "60000/60000 [==============================] - 5s 83us/sample - loss: 0.0054 - accuracy: 0.9983 - val_loss: 0.0524 - val_accuracy: 0.9913\n",
      "Epoch 20/20\n",
      "60000/60000 [==============================] - 5s 89us/sample - loss: 0.0039 - accuracy: 0.9986 - val_loss: 0.0422 - val_accuracy: 0.9921\n"
     ]
    },
    {
     "data": {
      "text/plain": [
       "<tensorflow.python.keras.callbacks.History at 0x7fb888309350>"
      ]
     },
     "execution_count": 41,
     "metadata": {},
     "output_type": "execute_result"
    }
   ],
   "source": [
    "model.compile(optimizer='adam',loss='sparse_categorical_crossentropy',metrics=['accuracy'])\n",
    "model.fit(x=x_train,y=y_train,epochs = 20, validation_data=(x_test,y_test))"
   ]
  },
  {
   "cell_type": "markdown",
   "metadata": {},
   "source": [
    "### B2) Input -> Conv2d(24,5) -> Pool(2) -> Conv2d(48,5) -> Pool(2) -> Flatten -> Dense(128) -> Dense(10)"
   ]
  },
  {
   "cell_type": "code",
   "execution_count": 42,
   "metadata": {},
   "outputs": [],
   "source": [
    "model = tf.keras.models.Sequential()\n",
    "\n",
    "model.add(Conv2D(24,kernel_size=5,activation='relu',input_shape=(28,28,1)))\n",
    "model.add(MaxPool2D())\n",
    "\n",
    "model.add(Conv2D(48,kernel_size=5,activation='relu'))\n",
    "model.add(MaxPool2D())\n",
    "\n",
    "model.add(Flatten())\n",
    "model.add(Dense(128, activation='relu'))\n",
    "model.add(Dense(10, activation='softmax'))"
   ]
  },
  {
   "cell_type": "code",
   "execution_count": 43,
   "metadata": {
    "scrolled": true
   },
   "outputs": [
    {
     "name": "stdout",
     "output_type": "stream",
     "text": [
      "Train on 60000 samples, validate on 10000 samples\n",
      "Epoch 1/20\n",
      "60000/60000 [==============================] - 6s 100us/sample - loss: 0.1271 - accuracy: 0.9604 - val_loss: 0.0511 - val_accuracy: 0.9842\n",
      "Epoch 2/20\n",
      "60000/60000 [==============================] - 6s 95us/sample - loss: 0.0433 - accuracy: 0.9870 - val_loss: 0.0355 - val_accuracy: 0.9875\n",
      "Epoch 3/20\n",
      "60000/60000 [==============================] - 6s 96us/sample - loss: 0.0297 - accuracy: 0.9905 - val_loss: 0.0303 - val_accuracy: 0.9901\n",
      "Epoch 4/20\n",
      "60000/60000 [==============================] - 6s 94us/sample - loss: 0.0213 - accuracy: 0.9930 - val_loss: 0.0276 - val_accuracy: 0.9922\n",
      "Epoch 5/20\n",
      "60000/60000 [==============================] - 6s 96us/sample - loss: 0.0164 - accuracy: 0.9946 - val_loss: 0.0334 - val_accuracy: 0.9897\n",
      "Epoch 6/20\n",
      "60000/60000 [==============================] - 6s 96us/sample - loss: 0.0139 - accuracy: 0.9956 - val_loss: 0.0290 - val_accuracy: 0.9912\n",
      "Epoch 7/20\n",
      "60000/60000 [==============================] - 6s 97us/sample - loss: 0.0116 - accuracy: 0.9963 - val_loss: 0.0291 - val_accuracy: 0.9922\n",
      "Epoch 8/20\n",
      "60000/60000 [==============================] - 6s 96us/sample - loss: 0.0094 - accuracy: 0.9969 - val_loss: 0.0354 - val_accuracy: 0.9898\n",
      "Epoch 9/20\n",
      "60000/60000 [==============================] - 6s 97us/sample - loss: 0.0075 - accuracy: 0.9974 - val_loss: 0.0354 - val_accuracy: 0.9907\n",
      "Epoch 10/20\n",
      "60000/60000 [==============================] - 6s 97us/sample - loss: 0.0085 - accuracy: 0.9972 - val_loss: 0.0266 - val_accuracy: 0.9929\n",
      "Epoch 11/20\n",
      "60000/60000 [==============================] - 6s 97us/sample - loss: 0.0062 - accuracy: 0.9981 - val_loss: 0.0346 - val_accuracy: 0.9916\n",
      "Epoch 12/20\n",
      "60000/60000 [==============================] - 6s 100us/sample - loss: 0.0062 - accuracy: 0.9981 - val_loss: 0.0340 - val_accuracy: 0.9926\n",
      "Epoch 13/20\n",
      "60000/60000 [==============================] - 6s 98us/sample - loss: 0.0057 - accuracy: 0.9983 - val_loss: 0.0341 - val_accuracy: 0.9922\n",
      "Epoch 14/20\n",
      "60000/60000 [==============================] - 6s 100us/sample - loss: 0.0058 - accuracy: 0.9983 - val_loss: 0.0348 - val_accuracy: 0.9921\n",
      "Epoch 15/20\n",
      "60000/60000 [==============================] - 6s 99us/sample - loss: 0.0038 - accuracy: 0.9988 - val_loss: 0.0387 - val_accuracy: 0.9928\n",
      "Epoch 16/20\n",
      "60000/60000 [==============================] - 6s 99us/sample - loss: 0.0056 - accuracy: 0.9983 - val_loss: 0.0396 - val_accuracy: 0.9921\n",
      "Epoch 17/20\n",
      "60000/60000 [==============================] - 6s 99us/sample - loss: 0.0057 - accuracy: 0.9983 - val_loss: 0.0372 - val_accuracy: 0.9927\n",
      "Epoch 18/20\n",
      "60000/60000 [==============================] - 6s 99us/sample - loss: 0.0041 - accuracy: 0.9987 - val_loss: 0.0485 - val_accuracy: 0.9916\n",
      "Epoch 19/20\n",
      "60000/60000 [==============================] - 6s 99us/sample - loss: 0.0043 - accuracy: 0.9986 - val_loss: 0.0636 - val_accuracy: 0.9907\n",
      "Epoch 20/20\n",
      "60000/60000 [==============================] - 6s 99us/sample - loss: 0.0049 - accuracy: 0.9985 - val_loss: 0.0427 - val_accuracy: 0.9926\n"
     ]
    },
    {
     "data": {
      "text/plain": [
       "<tensorflow.python.keras.callbacks.History at 0x7fb8881383d0>"
      ]
     },
     "execution_count": 43,
     "metadata": {},
     "output_type": "execute_result"
    }
   ],
   "source": [
    "model.compile(optimizer='adam',loss='sparse_categorical_crossentropy',metrics=['accuracy'])\n",
    "model.fit(x=x_train,y=y_train,epochs = 20, validation_data=(x_test,y_test))"
   ]
  },
  {
   "cell_type": "markdown",
   "metadata": {},
   "source": [
    "### B3) Input -> Conv2d(32,5) -> Pool(2) -> Conv2d(64,5) -> Pool(2) -> Flatten -> Dense(128) -> Dense(10)"
   ]
  },
  {
   "cell_type": "code",
   "execution_count": 44,
   "metadata": {},
   "outputs": [],
   "source": [
    "model = tf.keras.models.Sequential()\n",
    "\n",
    "model.add(Conv2D(32,kernel_size=5,activation='relu',input_shape=(28,28,1)))\n",
    "model.add(MaxPool2D())\n",
    "\n",
    "model.add(Conv2D(64,kernel_size=5,activation='relu'))\n",
    "model.add(MaxPool2D())\n",
    "\n",
    "model.add(Flatten())\n",
    "model.add(Dense(128, activation='relu'))\n",
    "model.add(Dense(10, activation='softmax'))"
   ]
  },
  {
   "cell_type": "code",
   "execution_count": 45,
   "metadata": {
    "scrolled": true
   },
   "outputs": [
    {
     "name": "stdout",
     "output_type": "stream",
     "text": [
      "Train on 60000 samples, validate on 10000 samples\n",
      "Epoch 1/20\n",
      "60000/60000 [==============================] - 6s 107us/sample - loss: 0.1190 - accuracy: 0.9645 - val_loss: 0.0505 - val_accuracy: 0.9841\n",
      "Epoch 2/20\n",
      "60000/60000 [==============================] - 6s 99us/sample - loss: 0.0389 - accuracy: 0.9877 - val_loss: 0.0314 - val_accuracy: 0.9904\n",
      "Epoch 3/20\n",
      "60000/60000 [==============================] - 6s 99us/sample - loss: 0.0265 - accuracy: 0.9918 - val_loss: 0.0374 - val_accuracy: 0.9880\n",
      "Epoch 4/20\n",
      "60000/60000 [==============================] - 6s 100us/sample - loss: 0.0193 - accuracy: 0.9941 - val_loss: 0.0245 - val_accuracy: 0.9923\n",
      "Epoch 5/20\n",
      "60000/60000 [==============================] - 7s 109us/sample - loss: 0.0165 - accuracy: 0.9952 - val_loss: 0.0333 - val_accuracy: 0.9908\n",
      "Epoch 6/20\n",
      "60000/60000 [==============================] - 6s 108us/sample - loss: 0.0120 - accuracy: 0.9961 - val_loss: 0.0343 - val_accuracy: 0.9905\n",
      "Epoch 7/20\n",
      "60000/60000 [==============================] - 6s 106us/sample - loss: 0.0113 - accuracy: 0.9961 - val_loss: 0.0369 - val_accuracy: 0.9891\n",
      "Epoch 8/20\n",
      "60000/60000 [==============================] - 6s 107us/sample - loss: 0.0078 - accuracy: 0.9976 - val_loss: 0.0317 - val_accuracy: 0.9914\n",
      "Epoch 9/20\n",
      "60000/60000 [==============================] - 7s 114us/sample - loss: 0.0083 - accuracy: 0.9974 - val_loss: 0.0371 - val_accuracy: 0.9922\n",
      "Epoch 10/20\n",
      "60000/60000 [==============================] - 7s 111us/sample - loss: 0.0067 - accuracy: 0.9978 - val_loss: 0.0485 - val_accuracy: 0.9899\n",
      "Epoch 11/20\n",
      "60000/60000 [==============================] - 6s 106us/sample - loss: 0.0060 - accuracy: 0.9981 - val_loss: 0.0343 - val_accuracy: 0.9916\n",
      "Epoch 12/20\n",
      "60000/60000 [==============================] - 6s 106us/sample - loss: 0.0053 - accuracy: 0.9983 - val_loss: 0.0572 - val_accuracy: 0.9904\n",
      "Epoch 13/20\n",
      "60000/60000 [==============================] - 6s 105us/sample - loss: 0.0067 - accuracy: 0.9979 - val_loss: 0.0435 - val_accuracy: 0.9917\n",
      "Epoch 14/20\n",
      "60000/60000 [==============================] - 6s 104us/sample - loss: 0.0049 - accuracy: 0.9984 - val_loss: 0.0434 - val_accuracy: 0.9924\n",
      "Epoch 15/20\n",
      "60000/60000 [==============================] - 6s 105us/sample - loss: 0.0045 - accuracy: 0.9985 - val_loss: 0.0553 - val_accuracy: 0.9903\n",
      "Epoch 16/20\n",
      "60000/60000 [==============================] - 6s 105us/sample - loss: 0.0042 - accuracy: 0.9986 - val_loss: 0.0440 - val_accuracy: 0.9921\n",
      "Epoch 17/20\n",
      "60000/60000 [==============================] - 6s 105us/sample - loss: 0.0050 - accuracy: 0.9984 - val_loss: 0.0502 - val_accuracy: 0.9925\n",
      "Epoch 18/20\n",
      "60000/60000 [==============================] - 7s 118us/sample - loss: 0.0042 - accuracy: 0.9988 - val_loss: 0.0595 - val_accuracy: 0.9908\n",
      "Epoch 19/20\n",
      "60000/60000 [==============================] - 7s 115us/sample - loss: 0.0044 - accuracy: 0.9988 - val_loss: 0.0421 - val_accuracy: 0.9929\n",
      "Epoch 20/20\n",
      "60000/60000 [==============================] - 6s 108us/sample - loss: 0.0043 - accuracy: 0.9988 - val_loss: 0.0480 - val_accuracy: 0.9922\n"
     ]
    },
    {
     "data": {
      "text/plain": [
       "<tensorflow.python.keras.callbacks.History at 0x7fb7f82c1490>"
      ]
     },
     "execution_count": 45,
     "metadata": {},
     "output_type": "execute_result"
    }
   ],
   "source": [
    "model.compile(optimizer='adam',loss='sparse_categorical_crossentropy',metrics=['accuracy'])\n",
    "model.fit(x=x_train,y=y_train,epochs = 20, validation_data=(x_test,y_test))"
   ]
  },
  {
   "cell_type": "markdown",
   "metadata": {},
   "source": [
    "### B4) Input -> Conv2d(48,5) -> Pool(2) -> Conv2d(96,5) -> Pool(2) -> Flatten -> Dense(128) -> Dense(10)"
   ]
  },
  {
   "cell_type": "code",
   "execution_count": 46,
   "metadata": {},
   "outputs": [],
   "source": [
    "model = tf.keras.models.Sequential()\n",
    "\n",
    "model.add(Conv2D(48,kernel_size=5,activation='relu',input_shape=(28,28,1)))\n",
    "model.add(MaxPool2D())\n",
    "\n",
    "model.add(Conv2D(96,kernel_size=5,activation='relu'))\n",
    "model.add(MaxPool2D())\n",
    "\n",
    "model.add(Flatten())\n",
    "model.add(Dense(128, activation='relu'))\n",
    "model.add(Dense(10, activation='softmax'))"
   ]
  },
  {
   "cell_type": "code",
   "execution_count": 47,
   "metadata": {
    "scrolled": true
   },
   "outputs": [
    {
     "name": "stdout",
     "output_type": "stream",
     "text": [
      "Train on 60000 samples, validate on 10000 samples\n",
      "Epoch 1/20\n",
      "60000/60000 [==============================] - 9s 147us/sample - loss: 0.1147 - accuracy: 0.9649 - val_loss: 0.0401 - val_accuracy: 0.9873\n",
      "Epoch 2/20\n",
      "60000/60000 [==============================] - 9s 142us/sample - loss: 0.0366 - accuracy: 0.9887 - val_loss: 0.0350 - val_accuracy: 0.9890\n",
      "Epoch 3/20\n",
      "60000/60000 [==============================] - 9s 142us/sample - loss: 0.0257 - accuracy: 0.9914 - val_loss: 0.0286 - val_accuracy: 0.9909\n",
      "Epoch 4/20\n",
      "60000/60000 [==============================] - 8s 140us/sample - loss: 0.0189 - accuracy: 0.9941 - val_loss: 0.0227 - val_accuracy: 0.9924\n",
      "Epoch 5/20\n",
      "60000/60000 [==============================] - 9s 145us/sample - loss: 0.0152 - accuracy: 0.9952 - val_loss: 0.0230 - val_accuracy: 0.9937\n",
      "Epoch 6/20\n",
      "60000/60000 [==============================] - 9s 146us/sample - loss: 0.0113 - accuracy: 0.9965 - val_loss: 0.0393 - val_accuracy: 0.9894\n",
      "Epoch 7/20\n",
      "60000/60000 [==============================] - 9s 148us/sample - loss: 0.0103 - accuracy: 0.9963 - val_loss: 0.0298 - val_accuracy: 0.9931\n",
      "Epoch 8/20\n",
      "60000/60000 [==============================] - 9s 146us/sample - loss: 0.0086 - accuracy: 0.9975 - val_loss: 0.0311 - val_accuracy: 0.9927\n",
      "Epoch 9/20\n",
      "60000/60000 [==============================] - 9s 147us/sample - loss: 0.0084 - accuracy: 0.9975 - val_loss: 0.0295 - val_accuracy: 0.9918\n",
      "Epoch 10/20\n",
      "60000/60000 [==============================] - 9s 146us/sample - loss: 0.0072 - accuracy: 0.9975 - val_loss: 0.0369 - val_accuracy: 0.9927\n",
      "Epoch 11/20\n",
      "60000/60000 [==============================] - 9s 147us/sample - loss: 0.0055 - accuracy: 0.9983 - val_loss: 0.0389 - val_accuracy: 0.9910\n",
      "Epoch 12/20\n",
      "60000/60000 [==============================] - 9s 146us/sample - loss: 0.0054 - accuracy: 0.9981 - val_loss: 0.0373 - val_accuracy: 0.9924\n",
      "Epoch 13/20\n",
      "60000/60000 [==============================] - 9s 147us/sample - loss: 0.0063 - accuracy: 0.9983 - val_loss: 0.0550 - val_accuracy: 0.9912\n",
      "Epoch 14/20\n",
      "60000/60000 [==============================] - 9s 147us/sample - loss: 0.0057 - accuracy: 0.9983 - val_loss: 0.0431 - val_accuracy: 0.9924\n",
      "Epoch 15/20\n",
      "60000/60000 [==============================] - 9s 148us/sample - loss: 0.0039 - accuracy: 0.9988 - val_loss: 0.0489 - val_accuracy: 0.9908\n",
      "Epoch 16/20\n",
      "60000/60000 [==============================] - 9s 148us/sample - loss: 0.0069 - accuracy: 0.9982 - val_loss: 0.0434 - val_accuracy: 0.9925\n",
      "Epoch 17/20\n",
      "60000/60000 [==============================] - 9s 148us/sample - loss: 0.0039 - accuracy: 0.9988 - val_loss: 0.0482 - val_accuracy: 0.9927\n",
      "Epoch 18/20\n",
      "60000/60000 [==============================] - 9s 148us/sample - loss: 0.0045 - accuracy: 0.9987 - val_loss: 0.0500 - val_accuracy: 0.9920\n",
      "Epoch 19/20\n",
      "60000/60000 [==============================] - 9s 149us/sample - loss: 0.0049 - accuracy: 0.9987 - val_loss: 0.0611 - val_accuracy: 0.9905\n",
      "Epoch 20/20\n",
      "60000/60000 [==============================] - 9s 150us/sample - loss: 0.0032 - accuracy: 0.9991 - val_loss: 0.0556 - val_accuracy: 0.9920\n"
     ]
    },
    {
     "data": {
      "text/plain": [
       "<tensorflow.python.keras.callbacks.History at 0x7fb7f8170450>"
      ]
     },
     "execution_count": 47,
     "metadata": {},
     "output_type": "execute_result"
    }
   ],
   "source": [
    "model.compile(optimizer='adam',loss='sparse_categorical_crossentropy',metrics=['accuracy'])\n",
    "model.fit(x=x_train,y=y_train,epochs = 20, validation_data=(x_test,y_test))"
   ]
  },
  {
   "cell_type": "markdown",
   "metadata": {},
   "source": [
    "### B5) Input -> Conv2d(64,5) -> Pool(2) -> Conv2d(128,5) -> Pool(2) -> Flatten -> Dense(128) -> Dense(10)"
   ]
  },
  {
   "cell_type": "code",
   "execution_count": 50,
   "metadata": {},
   "outputs": [],
   "source": [
    "model = tf.keras.models.Sequential()\n",
    "\n",
    "model.add(Conv2D(64,kernel_size=5,activation='relu',input_shape=(28,28,1)))\n",
    "model.add(MaxPool2D())\n",
    "\n",
    "model.add(Conv2D(96,kernel_size=5,activation='relu'))\n",
    "model.add(MaxPool2D())\n",
    "\n",
    "model.add(Flatten())\n",
    "model.add(Dense(128, activation='relu'))\n",
    "model.add(Dense(10, activation='softmax'))"
   ]
  },
  {
   "cell_type": "code",
   "execution_count": 51,
   "metadata": {
    "scrolled": true
   },
   "outputs": [
    {
     "name": "stdout",
     "output_type": "stream",
     "text": [
      "Train on 60000 samples, validate on 10000 samples\n",
      "Epoch 1/20\n",
      "60000/60000 [==============================] - 24s 404us/sample - loss: 0.1116 - accuracy: 0.9647 - val_loss: 0.0398 - val_accuracy: 0.9856\n",
      "Epoch 2/20\n",
      "60000/60000 [==============================] - 11s 179us/sample - loss: 0.0379 - accuracy: 0.9881 - val_loss: 0.0338 - val_accuracy: 0.9887\n",
      "Epoch 3/20\n",
      "60000/60000 [==============================] - 10s 175us/sample - loss: 0.0257 - accuracy: 0.9921 - val_loss: 0.0300 - val_accuracy: 0.9914\n",
      "Epoch 4/20\n",
      "60000/60000 [==============================] - 11s 177us/sample - loss: 0.0185 - accuracy: 0.9941 - val_loss: 0.0249 - val_accuracy: 0.9924\n",
      "Epoch 5/20\n",
      "60000/60000 [==============================] - 11s 177us/sample - loss: 0.0144 - accuracy: 0.9954 - val_loss: 0.0272 - val_accuracy: 0.9913\n",
      "Epoch 6/20\n",
      "60000/60000 [==============================] - 11s 175us/sample - loss: 0.0113 - accuracy: 0.9962 - val_loss: 0.0293 - val_accuracy: 0.9914\n",
      "Epoch 7/20\n",
      "60000/60000 [==============================] - 11s 175us/sample - loss: 0.0092 - accuracy: 0.9971 - val_loss: 0.0319 - val_accuracy: 0.9917\n",
      "Epoch 8/20\n",
      "60000/60000 [==============================] - 11s 178us/sample - loss: 0.0080 - accuracy: 0.9975 - val_loss: 0.0311 - val_accuracy: 0.9926\n",
      "Epoch 9/20\n",
      "60000/60000 [==============================] - 11s 178us/sample - loss: 0.0075 - accuracy: 0.9975 - val_loss: 0.0370 - val_accuracy: 0.9916\n",
      "Epoch 10/20\n",
      "60000/60000 [==============================] - 11s 179us/sample - loss: 0.0065 - accuracy: 0.9979 - val_loss: 0.0420 - val_accuracy: 0.9918\n",
      "Epoch 11/20\n",
      "60000/60000 [==============================] - 11s 182us/sample - loss: 0.0068 - accuracy: 0.9979 - val_loss: 0.0411 - val_accuracy: 0.9920\n",
      "Epoch 12/20\n",
      "60000/60000 [==============================] - 11s 181us/sample - loss: 0.0047 - accuracy: 0.9984 - val_loss: 0.0460 - val_accuracy: 0.9916\n",
      "Epoch 13/20\n",
      "60000/60000 [==============================] - 11s 178us/sample - loss: 0.0060 - accuracy: 0.9981 - val_loss: 0.0312 - val_accuracy: 0.9935\n",
      "Epoch 14/20\n",
      "60000/60000 [==============================] - 11s 179us/sample - loss: 0.0041 - accuracy: 0.9987 - val_loss: 0.0486 - val_accuracy: 0.9914\n",
      "Epoch 15/20\n",
      "60000/60000 [==============================] - 11s 182us/sample - loss: 0.0060 - accuracy: 0.9983 - val_loss: 0.0529 - val_accuracy: 0.9907\n",
      "Epoch 16/20\n",
      "60000/60000 [==============================] - 11s 183us/sample - loss: 0.0041 - accuracy: 0.9988 - val_loss: 0.0383 - val_accuracy: 0.9934\n",
      "Epoch 17/20\n",
      "60000/60000 [==============================] - 11s 183us/sample - loss: 0.0025 - accuracy: 0.9992 - val_loss: 0.0608 - val_accuracy: 0.9913\n",
      "Epoch 18/20\n",
      "60000/60000 [==============================] - 11s 185us/sample - loss: 0.0043 - accuracy: 0.9988 - val_loss: 0.0573 - val_accuracy: 0.9911\n",
      "Epoch 19/20\n",
      "60000/60000 [==============================] - 11s 184us/sample - loss: 0.0048 - accuracy: 0.9987 - val_loss: 0.0543 - val_accuracy: 0.9929\n",
      "Epoch 20/20\n",
      "60000/60000 [==============================] - 11s 184us/sample - loss: 0.0036 - accuracy: 0.9991 - val_loss: 0.0558 - val_accuracy: 0.9914\n"
     ]
    },
    {
     "data": {
      "text/plain": [
       "<tensorflow.python.keras.callbacks.History at 0x7fb7e8545d10>"
      ]
     },
     "execution_count": 51,
     "metadata": {},
     "output_type": "execute_result"
    }
   ],
   "source": [
    "model.compile(optimizer='adam',loss='sparse_categorical_crossentropy',metrics=['accuracy'])\n",
    "model.fit(x=x_train,y=y_train,epochs = 20, validation_data=(x_test,y_test))"
   ]
  },
  {
   "cell_type": "markdown",
   "metadata": {},
   "source": [
    "### Conclusion: Best Training accuracy and Validation accuracy is achieved in B3"
   ]
  },
  {
   "cell_type": "markdown",
   "metadata": {},
   "source": [
    "# Adding Dropout"
   ]
  },
  {
   "cell_type": "code",
   "execution_count": 56,
   "metadata": {},
   "outputs": [
    {
     "name": "stdout",
     "output_type": "stream",
     "text": [
      "10000/10000 [==============================] - 1s 67us/sample - loss: 0.0292 - accuracy: 0.9931\n",
      "10000/10000 [==============================] - 1s 71us/sample - loss: 0.0194 - accuracy: 0.9934\n",
      "10000/10000 [==============================] - 1s 75us/sample - loss: 0.0280 - accuracy: 0.9916\n"
     ]
    }
   ],
   "source": [
    "for i in range(1,4):\n",
    "    dropout = i*0.2\n",
    "    model = tf.keras.models.Sequential()\n",
    "\n",
    "    model.add(Conv2D(32,kernel_size=5,activation='relu',input_shape=(28,28,1)))\n",
    "    model.add(MaxPool2D())\n",
    "    model.add(Dropout(dropout))\n",
    "    \n",
    "    model.add(Conv2D(64,kernel_size=5,activation='relu'))\n",
    "    model.add(MaxPool2D())\n",
    "    model.add(Dropout(dropout))\n",
    "\n",
    "    model.add(Flatten())\n",
    "    model.add(Dense(128, activation='relu'))\n",
    "    model.add(Dropout(dropout))\n",
    "    model.add(Dense(10, activation='softmax'))\n",
    "    \n",
    "    model.compile(optimizer='adam',loss='sparse_categorical_crossentropy',metrics=['accuracy'])\n",
    "    model.fit(x=x_train,y=y_train,epochs = 20,verbose=0)\n",
    "    model.evaluate(x_test,y_test)"
   ]
  },
  {
   "cell_type": "markdown",
   "metadata": {},
   "source": [
    "### Conclusion: 40% dropout seems good."
   ]
  },
  {
   "cell_type": "markdown",
   "metadata": {},
   "source": [
    "### All these experiments are random and hence I had to run them several times to be sure of the conclusions"
   ]
  },
  {
   "cell_type": "markdown",
   "metadata": {},
   "source": [
    "# Further improvements"
   ]
  },
  {
   "cell_type": "markdown",
   "metadata": {},
   "source": [
    "#### 1) Instead of using one 5\\*5 kernel in Convolution, we can use two 3\\*3 kernels to mimic the behaviour along with increase in non-linearity  \n",
    "#### 2) Instead of MaxPooling,we can try a Convolutional layer with a stride of 2 and see if there is any improvement\n",
    "#### 3) We can add BatchNormalisation to reduce overfitting so that model generalises better.\n",
    "#### 4) Data augmentaition can also be used but model seems to perform sufficiently good without it."
   ]
  },
  {
   "cell_type": "code",
   "execution_count": 63,
   "metadata": {
    "scrolled": true
   },
   "outputs": [
    {
     "name": "stdout",
     "output_type": "stream",
     "text": [
      "Train on 60000 samples, validate on 10000 samples\n",
      "Epoch 1/20\n",
      "60000/60000 [==============================] - 19s 325us/sample - loss: 0.1980 - accuracy: 0.9399 - val_loss: 0.0320 - val_accuracy: 0.9896\n",
      "Epoch 2/20\n",
      "60000/60000 [==============================] - 18s 302us/sample - loss: 0.0723 - accuracy: 0.9783 - val_loss: 0.0323 - val_accuracy: 0.9888\n",
      "Epoch 3/20\n",
      "60000/60000 [==============================] - 18s 306us/sample - loss: 0.0583 - accuracy: 0.9823 - val_loss: 0.0239 - val_accuracy: 0.9932\n",
      "Epoch 4/20\n",
      "60000/60000 [==============================] - 19s 309us/sample - loss: 0.0518 - accuracy: 0.9843 - val_loss: 0.0212 - val_accuracy: 0.9925\n",
      "Epoch 5/20\n",
      "60000/60000 [==============================] - 19s 312us/sample - loss: 0.0427 - accuracy: 0.9875 - val_loss: 0.0259 - val_accuracy: 0.9919\n",
      "Epoch 6/20\n",
      "60000/60000 [==============================] - 19s 309us/sample - loss: 0.0375 - accuracy: 0.9884 - val_loss: 0.0242 - val_accuracy: 0.9919\n",
      "Epoch 7/20\n",
      "60000/60000 [==============================] - 19s 309us/sample - loss: 0.0341 - accuracy: 0.9896 - val_loss: 0.0228 - val_accuracy: 0.9930\n",
      "Epoch 8/20\n",
      "60000/60000 [==============================] - 19s 312us/sample - loss: 0.0299 - accuracy: 0.9909 - val_loss: 0.0207 - val_accuracy: 0.9938\n",
      "Epoch 9/20\n",
      "60000/60000 [==============================] - 19s 309us/sample - loss: 0.0275 - accuracy: 0.9919 - val_loss: 0.0166 - val_accuracy: 0.9955\n",
      "Epoch 10/20\n",
      "60000/60000 [==============================] - 19s 314us/sample - loss: 0.0252 - accuracy: 0.9922 - val_loss: 0.0178 - val_accuracy: 0.9940\n",
      "Epoch 11/20\n",
      "60000/60000 [==============================] - 19s 312us/sample - loss: 0.0245 - accuracy: 0.9929 - val_loss: 0.0147 - val_accuracy: 0.9957\n",
      "Epoch 12/20\n",
      "60000/60000 [==============================] - 19s 311us/sample - loss: 0.0215 - accuracy: 0.9935 - val_loss: 0.0169 - val_accuracy: 0.9953\n",
      "Epoch 13/20\n",
      "60000/60000 [==============================] - 19s 318us/sample - loss: 0.0215 - accuracy: 0.9934 - val_loss: 0.0157 - val_accuracy: 0.9948\n",
      "Epoch 14/20\n",
      "60000/60000 [==============================] - 19s 317us/sample - loss: 0.0183 - accuracy: 0.9946 - val_loss: 0.0179 - val_accuracy: 0.9948\n",
      "Epoch 15/20\n",
      "60000/60000 [==============================] - 19s 309us/sample - loss: 0.0192 - accuracy: 0.9940 - val_loss: 0.0148 - val_accuracy: 0.9953\n",
      "Epoch 16/20\n",
      "60000/60000 [==============================] - 19s 318us/sample - loss: 0.0163 - accuracy: 0.9947 - val_loss: 0.0202 - val_accuracy: 0.9951\n",
      "Epoch 17/20\n",
      "60000/60000 [==============================] - 19s 319us/sample - loss: 0.0149 - accuracy: 0.9956 - val_loss: 0.0179 - val_accuracy: 0.9942\n",
      "Epoch 18/20\n",
      "60000/60000 [==============================] - 19s 321us/sample - loss: 0.0144 - accuracy: 0.9955 - val_loss: 0.0191 - val_accuracy: 0.9955\n",
      "Epoch 19/20\n",
      "60000/60000 [==============================] - 20s 329us/sample - loss: 0.0154 - accuracy: 0.9955 - val_loss: 0.0165 - val_accuracy: 0.9952\n",
      "Epoch 20/20\n",
      "60000/60000 [==============================] - 19s 315us/sample - loss: 0.0134 - accuracy: 0.9960 - val_loss: 0.0191 - val_accuracy: 0.9945\n"
     ]
    },
    {
     "data": {
      "text/plain": [
       "<tensorflow.python.keras.callbacks.History at 0x7fb79efa38d0>"
      ]
     },
     "execution_count": 63,
     "metadata": {},
     "output_type": "execute_result"
    }
   ],
   "source": [
    "model = tf.keras.models.Sequential()\n",
    "dropout = 0.40\n",
    "model.add(Conv2D(32,kernel_size=3,activation='relu',input_shape=(28,28,1)))\n",
    "model.add(BatchNormalization())\n",
    "model.add(Conv2D(32,kernel_size=3,activation='relu'))\n",
    "model.add(BatchNormalization())\n",
    "model.add(Conv2D(32,kernel_size=5,strides=2,padding='same',activation='relu'))\n",
    "model.add(BatchNormalization())\n",
    "model.add(Dropout(dropout))\n",
    "\n",
    "model.add(Conv2D(64,kernel_size=3,activation='relu'))\n",
    "model.add(BatchNormalization())\n",
    "model.add(Conv2D(64,kernel_size=3,activation='relu'))\n",
    "model.add(BatchNormalization())\n",
    "model.add(Conv2D(64,kernel_size=5,strides=2,padding='same',activation='relu'))\n",
    "model.add(BatchNormalization())\n",
    "model.add(Dropout(dropout))\n",
    "\n",
    "model.add(Flatten())\n",
    "model.add(Dense(128, activation='relu'))\n",
    "model.add(BatchNormalization())\n",
    "model.add(Dropout(dropout))\n",
    "model.add(Dense(10, activation='softmax'))\n",
    "\n",
    "model.compile(optimizer='adam',loss='sparse_categorical_crossentropy',metrics=['accuracy'])\n",
    "model.fit(x=x_train,y=y_train,epochs = 20,validation_data=(x_test,y_test))"
   ]
  },
  {
   "cell_type": "code",
   "execution_count": 64,
   "metadata": {},
   "outputs": [],
   "source": [
    "model.save('cnn_model.h5')"
   ]
  },
  {
   "cell_type": "markdown",
   "metadata": {},
   "source": [
    "### Finally after doing various runs in each experiment, I achieved a training accuracy of around 99.6 and a validation accuracy of around 99.4%. Data Augmentation and using the bigger network might increase this a bit further but this seems to be a good balance of accuracy and computational expense."
   ]
  },
  {
   "cell_type": "code",
   "execution_count": 65,
   "metadata": {},
   "outputs": [
    {
     "name": "stdout",
     "output_type": "stream",
     "text": [
      "10000/10000 [==============================] - 1s 124us/sample - loss: 0.0191 - accuracy: 0.9945\n"
     ]
    },
    {
     "data": {
      "text/plain": [
       "[0.019054458866282948, 0.9945]"
      ]
     },
     "execution_count": 65,
     "metadata": {},
     "output_type": "execute_result"
    }
   ],
   "source": [
    "model.evaluate(x_test,y_test)"
   ]
  },
  {
   "cell_type": "code",
   "execution_count": null,
   "metadata": {},
   "outputs": [],
   "source": []
  }
 ],
 "metadata": {
  "kernelspec": {
   "display_name": "Python 3",
   "language": "python",
   "name": "python3"
  },
  "language_info": {
   "codemirror_mode": {
    "name": "ipython",
    "version": 3
   },
   "file_extension": ".py",
   "mimetype": "text/x-python",
   "name": "python",
   "nbconvert_exporter": "python",
   "pygments_lexer": "ipython3",
   "version": "3.7.7"
  }
 },
 "nbformat": 4,
 "nbformat_minor": 4
}
